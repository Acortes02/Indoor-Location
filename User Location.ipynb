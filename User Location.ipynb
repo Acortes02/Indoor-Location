{
 "cells": [
  {
   "cell_type": "markdown",
   "id": "e8a31601",
   "metadata": {},
   "source": [
    "# Spacy"
   ]
  },
  {
   "cell_type": "code",
   "execution_count": null,
   "id": "2496a3d1",
   "metadata": {},
   "outputs": [],
   "source": [
    "!pip install spacy"
   ]
  },
  {
   "cell_type": "code",
   "execution_count": 13,
   "id": "24972e2d",
   "metadata": {},
   "outputs": [],
   "source": [
    "#sample!\n",
    "taxt = \"\"\"I am so angry that i made this post available via all possible sites i use\n",
    "when planing my trips so no one will make the mistake of booking this place I made my booking \n",
    "via booking com We stayed for 6 nights in this hotel from 11 to 17 July Upon arrival we were placed in a \n",
    "small room on the 2nd floor of the hotel It turned out that this was not the room we booked I had specially \n",
    "reserved the 2 level duplex room so that we would have a big windows and high ceilings The room itself was ok if you don \n",
    "t mind the broken window that can not be closed hello rain and a mini fridge that contained some sort of a bio weapon at \n",
    "least i guessed so by the smell of it I intimately asked to change the room and after explaining 2 times that i booked a \n",
    "duplex btw it costs the same as a simple double but got way more volume due to the high ceiling was offered a room but only\n",
    "the next day SO i had to check out the next day before 11 o clock in order to get the room i waned to Not the best way to \n",
    "begin your holiday So we had to wait till 13 00 in order to check in my new room what a wonderful waist of my time The room \n",
    "023 i got was just as i wanted to peaceful internal garden view big window We were tired from waiting the room so we placed \n",
    "our belongings and rushed to the city In the evening it turned out that there was a constant noise in the room i guess it was\n",
    "made by vibrating vent tubes or something it was constant and annoying as hell AND it did not stop even at 2 am making it hard \n",
    "to fall asleep for me and my wife I have an audio recording that i can not attach here but if you want i can send it via e mail\n",
    "The next day the technician came but was not able to determine the cause of the disturbing sound so i was offered to change the \n",
    "room once again the hotel was fully booked and they had only 1 room left the one that was smaller but seems newer \n",
    "\"\"\""
   ]
  },
  {
   "cell_type": "code",
   "execution_count": 28,
   "id": "b4a7eff3",
   "metadata": {},
   "outputs": [
    {
     "name": "stdout",
     "output_type": "stream",
     "text": [
      "doc I am so angry that i made this post available via all possible sites i use\n",
      "when planing my trips so no one will make the mistake of booking this place I made my booking \n",
      "via booking com We stayed for 6 nights in this hotel from 11 to 17 July Upon arrival we were placed in a \n",
      "small room on the 2nd floor of the hotel It turned out that this was not the room we booked I had specially \n",
      "reserved the 2 level duplex room so that we would have a big windows and high ceilings The room itself was ok if you don \n",
      "t mind the broken window that can not be closed hello rain and a mini fridge that contained some sort of a bio weapon at \n",
      "least i guessed so by the smell of it I intimately asked to change the room and after explaining 2 times that i booked a \n",
      "duplex btw it costs the same as a simple double but got way more volume due to the high ceiling was offered a room but only\n",
      "the next day SO i had to check out the next day before 11 o clock in order to get the room i waned to Not the best way to \n",
      "begin your holiday So we had to wait till 13 00 in order to check in my new room what a wonderful waist of my time The room \n",
      "023 i got was just as i wanted to peaceful internal garden view big window We were tired from waiting the room so we placed \n",
      "our belongings and rushed to the city In the evening it turned out that there was a constant noise in the room i guess it was\n",
      "made by vibrating vent tubes or something it was constant and annoying as hell AND it did not stop even at 2 am making it hard \n",
      "to fall asleep for me and my wife I have an audio recording that i can not attach here but if you want i can send it via e mail\n",
      "The next day the technician came but was not able to determine the cause of the disturbing sound so i was offered to change the \n",
      "room once again the hotel was fully booked and they had only 1 room left the one that was smaller but seems newer \n",
      "\n",
      "matches [(9454585304971169047, 205, 208)]\n"
     ]
    },
    {
     "data": {
      "text/plain": [
       "['clock in order']"
      ]
     },
     "execution_count": 28,
     "metadata": {},
     "output_type": "execute_result"
    }
   ],
   "source": [
    "import spacy\n",
    "from spacy.matcher import Matcher\n",
    "\n",
    "nlp = spacy.load(\"en_core_web_sm\")\n",
    "\n",
    "list_of_rules = [\n",
    "    [\"VERB\", \"ADJ\", \"NOUN\"],\n",
    "    [\"NOUN\", \"VERB\", \"ADV\"],\n",
    "    [\"NOUN\", \"ADP\", \"NOUN\"],\n",
    "]\n",
    "\n",
    "rules = [[{\"POS\": i} for i in j] for j in list_of_rules]\n",
    "\n",
    "matcher = Matcher(nlp.vocab)\n",
    "matcher.add(\"rules\", [*rules])\n",
    "\n",
    "doc = nlp(taxt)\n",
    "print(\"doc\",doc)\n",
    "matches = matcher(doc)\n",
    "print(\"matches\", matches)\n",
    "[doc[start:end].text for _, start, end in matches]"
   ]
  },
  {
   "cell_type": "markdown",
   "id": "3662a511",
   "metadata": {},
   "source": [
    "# Rake"
   ]
  },
  {
   "cell_type": "code",
   "execution_count": 23,
   "id": "02b74ba8",
   "metadata": {},
   "outputs": [
    {
     "name": "stdout",
     "output_type": "stream",
     "text": [
      "['peaceful internal garden view big window', 'wait till 13 00', '17 july upon arrival', 'booking via booking com', '2 level duplex room', 'via e mail', 'post available via', 'vibrating vent tubes', 'closed hello rain', 'explaining 2 times', '1 room left', 'broken window', 'big windows', 'duplex btw', 'wonderful waist', 'volume due', 'technician came', 'stop even', 'specially reserved', 'simple double', 'seems newer', 'possible sites', 'next day', 'next day', 'next day', 'mini fridge', 'intimately asked', 'high ceilings', 'high ceiling', 'fall asleep', 'disturbing sound', 'bio weapon', 'best way', 'audio recording', '6 nights', '2nd floor', 'small room', 'room 023', 'new room', 'got way', 'constant noise', 'fully booked', 'booking', '2', 'room', 'room', 'room', 'room', 'room', 'room', 'room', 'room', 'got', 'constant', 'booked', 'booked', 'would', 'wife', 'wanted', 'want', 'waned', 'waiting', 'use', 'turned', 'turned', 'trips', 'tired', 'time', 'stayed', 'sort', 'something', 'smell', 'smaller', 'send', 'rushed', 'planing', 'placed', 'placed', 'place', 'order', 'order', 'one', 'one', 'ok', 'offered', 'offered', 'mistake', 'mind', 'making', 'make', 'made', 'made', 'made', 'least', 'hotel', 'hotel', 'hotel', 'holiday', 'hell', 'hard', 'guessed', 'guess', 'get', 'evening', 'determine', 'costs', 'contained', 'clock', 'city', 'check', 'check', 'change', 'change', 'cause', 'belongings', 'begin', 'attach', 'annoying', 'angry', 'able', '11', '11']\n"
     ]
    }
   ],
   "source": [
    "from rake_nltk import Rake\n",
    "rake_nltk_var = Rake()\n",
    "rake_nltk_var.extract_keywords_from_text(taxt)\n",
    "keyword_extracted = rake_nltk_var.get_ranked_phrases()\n",
    "print(keyword_extracted)"
   ]
  },
  {
   "cell_type": "code",
   "execution_count": 25,
   "id": "c4cc254e",
   "metadata": {},
   "outputs": [
    {
     "name": "stdout",
     "output_type": "stream",
     "text": [
      "peaceful internal garden view big window\n",
      "wait till 13 00\n",
      "17 july upon arrival\n",
      "booking via booking com\n",
      "2 level duplex room\n",
      "via e mail\n",
      "post available via\n",
      "vibrating vent tubes\n",
      "closed hello rain\n",
      "explaining 2 times\n",
      "1 room left\n"
     ]
    }
   ],
   "source": [
    "for i in keyword_extracted:\n",
    "    if len(i.split()) >= 3:\n",
    "        print(i)"
   ]
  }
 ],
 "metadata": {
  "kernelspec": {
   "display_name": "Python 3 (ipykernel)",
   "language": "python",
   "name": "python3"
  },
  "language_info": {
   "codemirror_mode": {
    "name": "ipython",
    "version": 3
   },
   "file_extension": ".py",
   "mimetype": "text/x-python",
   "name": "python",
   "nbconvert_exporter": "python",
   "pygments_lexer": "ipython3",
   "version": "3.8.12"
  }
 },
 "nbformat": 4,
 "nbformat_minor": 5
}
